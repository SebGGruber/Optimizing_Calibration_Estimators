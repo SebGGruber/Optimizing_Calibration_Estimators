{
 "cells": [
  {
   "cell_type": "code",
   "execution_count": 52,
   "id": "6d258773-9741-4ca7-bb79-14ff70bac7ae",
   "metadata": {},
   "outputs": [],
   "source": [
    "import pandas as pd\n",
    "import numpy as np\n",
    "import torch\n",
    "import itertools\n",
    "import seaborn as sns\n",
    "import matplotlib.pyplot as plt\n",
    "import pickle\n",
    "\n",
    "from safetensors.numpy import load_file\n",
    "from scipy.special import softmax\n",
    "from sklearn.metrics import pairwise\n",
    "from tqdm import tqdm\n",
    "\n",
    "from ece_bin import ECE_bin\n",
    "from CV_pipeline import ECE_bin_CV\n",
    "from experiments import TCE_experiments, CCE_experiments, unpickle_probs\n",
    "\n",
    "k_folds_val = 10"
   ]
  },
  {
   "cell_type": "code",
   "execution_count": 53,
   "id": "33141c58-7993-4bf4-bf42-76832569b904",
   "metadata": {},
   "outputs": [],
   "source": [
    "# breast and pneumonia have very few data instances,\n",
    "# so we would need a different evaluation with more CV folds\n",
    "settings_vit = [\n",
    "    ('Derma', 'ViT', 'logits/derma_vit_base_patch16_224.orig_in21k_ft_in1k_output.safetensors'),\n",
    "    ('OCT', 'ViT', 'logits/oct_vit_base_patch16_224.orig_in21k_ft_in1k_output.safetensors'),\n",
    "    ('Blood', 'ViT', 'logits/blood_vit_base_patch16_224.orig_in21k_ft_in1k_output.safetensors'),\n",
    "]"
   ]
  },
  {
   "cell_type": "code",
   "execution_count": 54,
   "id": "925a78ee-b1e6-4ce7-9815-4201ff5a2c7b",
   "metadata": {},
   "outputs": [
    {
     "name": "stderr",
     "output_type": "stream",
     "text": [
      "100%|████████████████████████████████████████████████████████████████████████████████████████████████████| 3/3 [01:11<00:00, 23.70s/it]\n"
     ]
    }
   ],
   "source": [
    "exp_results = TCE_experiments(\n",
    "    settings_vit, k_folds_val=k_folds_val, k_folds_test=1,\n",
    ")"
   ]
  },
  {
   "cell_type": "code",
   "execution_count": 55,
   "id": "9d812460-67f2-4f18-a5b9-c803197f9388",
   "metadata": {},
   "outputs": [],
   "source": [
    "filename = 'results/real_data/TCE_binning_krr_kkrr_kde_vit.pkl'\n",
    "with open(filename, 'wb') as file:\n",
    "    pickle.dump(exp_results, file)"
   ]
  },
  {
   "cell_type": "code",
   "execution_count": 56,
   "id": "4b59acd8-46a9-42a9-9416-0453eee7ed85",
   "metadata": {},
   "outputs": [],
   "source": [
    "filename = 'results/real_data/TCE_binning_krr_kkrr_kde_vit.pkl'\n",
    "with open(filename, 'rb') as file:\n",
    "    exp_results = pickle.load(file)\n",
    "exp_results = pd.DataFrame(exp_results)\n",
    "exp_results['TCE estimate'] = exp_results['ECE estimate']**.5\n",
    "exp_results['RMSE'] = exp_results['Val Risk']**.5\n",
    "exp_results['Estimator'] = exp_results['Type'].replace({\n",
    "    '15 bins': 'TCE$_2^{15-bins}$',\n",
    "    'Opt bins': 'TCE$_2^{bins}$',\n",
    "    'Opt KKRR': 'TCE$_2^{ukkr}$',\n",
    "    'Opt KRR': 'TCE$_2^{kkr}$',\n",
    "    'Opt KDE': 'TCE$_2^{kde}$',\n",
    "})"
   ]
  },
  {
   "cell_type": "code",
   "execution_count": 57,
   "id": "0df1a20d-c2d5-42dd-a6bc-ef2fb916cfcb",
   "metadata": {},
   "outputs": [],
   "source": [
    "std_results = []\n",
    "for index, result in exp_results.iterrows():\n",
    "    pd_results = pd.DataFrame(result['CV results'])\n",
    "    pd_results['val_risk'] = pd_results['val_risk']**.5\n",
    "    pd_results['avg_pred_test'] = pd_results['avg_pred_test']**.5\n",
    "    if result['Type']=='15 bins':\n",
    "        val_risk = pd_results[pd_results['n_bins']==15]['val_risk'].mean()\n",
    "        val_risk_std = pd_results[pd_results['n_bins']==15]['val_risk'].std()\n",
    "        test_ece_est = pd_results[pd_results['n_bins']==15]['avg_pred_test'].mean()\n",
    "        test_ece_est_std = pd_results[pd_results['n_bins']==15]['avg_pred_test'].std()\n",
    "    else:\n",
    "        if result['Type']=='Opt bins':\n",
    "            grp_results = pd_results.groupby(['n_bins']).mean()\n",
    "            grp_results_std = pd_results.groupby(['n_bins']).std()\n",
    "        elif result['Type']=='Opt KKRR':\n",
    "            grp_results = pd_results.groupby(['reg_const']).mean()\n",
    "            grp_results_std = pd_results.groupby(['reg_const']).std()\n",
    "        elif result['Type']=='Opt KRR':\n",
    "            grp_results = pd_results.groupby(['reg_const']).mean()\n",
    "            grp_results_std = pd_results.groupby(['reg_const']).std()\n",
    "        elif result['Type']=='Opt KDE':\n",
    "            pd_results['bandwidth'] = torch.Tensor(pd_results['bandwidth'].values.tolist()).numpy()\n",
    "            grp_results = pd_results.groupby(['bandwidth']).mean()\n",
    "            grp_results_std = pd_results.groupby(['bandwidth']).std()\n",
    "        optim = grp_results['val_risk'].argmin()\n",
    "        val_risk = grp_results.iloc[optim]['val_risk'].item()\n",
    "        val_risk_std = grp_results_std.iloc[optim]['val_risk'].item()\n",
    "        test_ece_est = grp_results.iloc[optim]['avg_pred_test'].item()\n",
    "        test_ece_est_std = grp_results_std.iloc[optim]['avg_pred_test'].item()\n",
    "        \n",
    "    std_results += [{\n",
    "        'Dataset': result['Dataset'],\n",
    "        'Model': result['Model'],\n",
    "        'TCE estimate': test_ece_est,\n",
    "        'TCE estimate STD': test_ece_est_std,\n",
    "        'Acc': result['Acc'],\n",
    "        'Type': result['Type'],\n",
    "        'RMSE': val_risk,\n",
    "        'RMSE STD': val_risk_std,\n",
    "        'Runtime': result['Runtime'] if 'Runtime' in result.keys() else None,\n",
    "    }]\n",
    "\n",
    "std_results = pd.DataFrame(std_results)\n",
    "std_results['Estimator'] = std_results['Type'].replace({\n",
    "    '15 bins': 'TCE$_2^{15-bins}$',\n",
    "    'Opt bins': 'TCE$_2^{bins}$',\n",
    "    'Opt KKRR': 'TCE$_2^{ukkr}$',\n",
    "    'Opt KRR': 'TCE$_2^{kkr}$',\n",
    "    'Opt KDE': 'TCE$_2^{kde}$',\n",
    "})"
   ]
  },
  {
   "cell_type": "code",
   "execution_count": 58,
   "id": "2c582ecb-63c0-45ba-a1f2-d3049a36ca58",
   "metadata": {},
   "outputs": [
    {
     "name": "stderr",
     "output_type": "stream",
     "text": [
      "/tmp/ipykernel_1515129/3993630063.py:16: UserWarning: set_ticklabels() should only be used with a fixed number of ticks, i.e. after set_ticks() or using a FixedLocator.\n",
      "  _ = axes.set_xticklabels(axes.get_xticklabels(), rotation=30)\n"
     ]
    },
    {
     "data": {
      "text/plain": [
       "<Figure size 600x400 with 0 Axes>"
      ]
     },
     "metadata": {},
     "output_type": "display_data"
    },
    {
     "data": {
      "image/png": "[encoded data removed]",
      "text/plain": [
       "<Figure size 450x300 with 1 Axes>"
      ]
     },
     "metadata": {},
     "output_type": "display_data"
    }
   ],
   "source": [
    "colors = {\n",
    "    'TCE$_2^{15-bins}$':'tab:blue',\n",
    "    'TCE$_2^{bins}$':'tab:orange',\n",
    "    'TCE$_2^{ukkr}$':'tab:green',\n",
    "    'TCE$_2^{kkr}$':'tab:red',\n",
    "    'TCE$_2^{kde}$':'tab:purple'\n",
    "}\n",
    "dot_size = 8\n",
    "sns.set(font_scale=1)\n",
    "sns.set_style('ticks')\n",
    "plt.figure(figsize=(6, 4))\n",
    "g = sns.FacetGrid(data=std_results, hue='Estimator', aspect=1.5)\n",
    "g.map(plt.errorbar, 'Dataset', 'TCE estimate', 'TCE estimate STD', fmt='o', elinewidth=3, markersize=dot_size)\n",
    "g.set(ylabel='TCE$_2$ estimate')\n",
    "for axes in g.axes.flat:\n",
    "    _ = axes.set_xticklabels(axes.get_xticklabels(), rotation=30)\n",
    "plt.legend(loc=\"upper left\",bbox_to_anchor=(1,1.1), title='Estimator')\n",
    "g.savefig(\"Plots/TCE_ViT_binning_krr_kkrr_kde.png\", bbox_inches='tight', dpi=1000);"
   ]
  },
  {
   "cell_type": "code",
   "execution_count": 59,
   "id": "3621d785-f6bd-438c-9fb1-ac05a7dce2f8",
   "metadata": {},
   "outputs": [
    {
     "name": "stdout",
     "output_type": "stream",
     "text": [
      "\\begin{tabular}{llll}\n",
      "\\toprule\n",
      "Dataset & Blood & Derma & OCT \\\\\n",
      "Estimator &  &  &  \\\\\n",
      "\\midrule\n",
      "TCE$_2^{15-bins}$ & 0.54 $\\pm$ 0.12 & 6.0 $\\pm$ 0.42 & 5.9 $\\pm$ 0.94 \\\\\n",
      "TCE$_2^{bins}$ & 0.52 $\\pm$ 0.12 & 6.0 $\\pm$ 0.42 & 5.87 $\\pm$ 0.93 \\\\\n",
      "TCE$_2^{kde}$ & 0.96 $\\pm$ 0.23 & 7.78 $\\pm$ 0.58 & 5.96 $\\pm$ 0.95 \\\\\n",
      "TCE$_2^{kkr}$ & 0.52 $\\pm$ 0.12 & 5.99 $\\pm$ 0.41 & 5.87 $\\pm$ 0.94 \\\\\n",
      "TCE$_2^{ukkr}$ & 0.52 $\\pm$ 0.12 & 5.99 $\\pm$ 0.42 & 5.87 $\\pm$ 0.94 \\\\\n",
      "\\bottomrule\n",
      "\\end{tabular}\n",
      "\n"
     ]
    },
    {
     "name": "stderr",
     "output_type": "stream",
     "text": [
      "<>:18: SyntaxWarning: invalid escape sequence '\\p'\n",
      "<>:18: SyntaxWarning: invalid escape sequence '\\p'\n",
      "/tmp/ipykernel_1515129/1074489362.py:18: SyntaxWarning: invalid escape sequence '\\p'\n",
      "  result_table = result_table.astype(str) + \" $\\pm$ \" + result_table_std.astype(str)\n"
     ]
    }
   ],
   "source": [
    "n_signif_digs = 2\n",
    "std_results.loc[:,'RMSE'] = np.round(std_results['RMSE']*100, n_signif_digs)\n",
    "std_results.loc[:,'RMSE STE'] = np.round(std_results['RMSE STD']*100/(k_folds_val**.5), n_signif_digs)\n",
    "result_table = pd.pivot_table(\n",
    "    std_results[['Dataset', 'RMSE', 'Estimator']],\n",
    "    values='RMSE',\n",
    "    index=['Estimator'],\n",
    "    columns=['Dataset'],\n",
    "    aggfunc=\"sum\"\n",
    ")\n",
    "result_table_std = pd.pivot_table(\n",
    "    std_results[['Dataset', 'RMSE STE', 'Estimator']],\n",
    "    values='RMSE STE',\n",
    "    index=['Estimator'],\n",
    "    columns=['Dataset'],\n",
    "    aggfunc=\"sum\"\n",
    ")\n",
    "result_table = result_table.astype(str) + \" $\\pm$ \" + result_table_std.astype(str)\n",
    "#columns_titles = ['LeNet-5', 'Densenet-40', 'ResNetWide-32', 'Resnet-110',\n",
    "#       'Resnet-110 SD']\n",
    "#result_table=result_table.reindex(columns=columns_titles)\n",
    "print(result_table.to_latex())"
   ]
  },
  {
   "cell_type": "code",
   "execution_count": null,
   "id": "5c83c372-a63f-4e88-a910-db852f2572d8",
   "metadata": {},
   "outputs": [],
   "source": []
  }
 ],
 "metadata": {
  "kernelspec": {
   "display_name": "Python 3 (ipykernel)",
   "language": "python",
   "name": "python3"
  },
  "language_info": {
   "codemirror_mode": {
    "name": "ipython",
    "version": 3
   },
   "file_extension": ".py",
   "mimetype": "text/x-python",
   "name": "python",
   "nbconvert_exporter": "python",
   "pygments_lexer": "ipython3",
   "version": "3.12.2"
  }
 },
 "nbformat": 4,
 "nbformat_minor": 5
}
